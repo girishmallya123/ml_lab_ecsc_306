{
 "cells": [
  {
   "cell_type": "code",
   "execution_count": null,
   "metadata": {
    "collapsed": true
   },
   "outputs": [],
   "source": [
    "import tensorflow as tf\n",
    "\n",
    "with tf.name_scope(\"var\"):\n",
    "    with tf.name_scope(\"mean_x\"):\n",
    "        a=tf.constant([3.0,7.4,25.2,11.33],shape=[1,4],name='a')\n",
    "        b=tf.constant([4.0,6.3,23.0,21.4],shape=[1,4],name='b')\n",
    "        x=tf.reduce_mean(a)\n",
    "        sess=tf.Session()\n",
    "print(\"mean\",sess.run(x))\n",
    "\n",
    "#mean x\n",
    "\n",
    "\n",
    "#mean of y\n",
    "\n",
    "with tf.name_scope(\"mean_y\"):\n",
    "    y=tf.reduce_mean(b)\n",
    "    sess=tf.Session()\n",
    "print(\"mean\",sess.run(y))\n",
    "\n",
    "\n",
    "#variance of x\n",
    "d=tf.subtract(a,x)\n",
    "sess=tf.Session()\n",
    "print(sess.run(d ))\n",
    "\n",
    "e=tf.square(d)\n",
    "f=tf.reduce_sum(e)\n",
    "sess=tf.Session()\n",
    "print(sess.run(f))\n",
    "\n",
    "#covariance\n",
    "with tf.name_scope(\"covariance\"):\n",
    "    g=tf.subtract(b,y)\n",
    "    sess=tf.Session()\n",
    "    g=tf.multiply(d,g)\n",
    "    h=tf.reduce_sum(g)\n",
    "print(sess.run(h))\n",
    "\n",
    "\n",
    "#value of c\n",
    "with tf.name_scope(\"value_of_c\"):\n",
    "    j=tf.divide(h,f)\n",
    "print(sess.run(j))\n",
    "\n",
    "#m value\n",
    "with tf.name_scope(\"value_m\"):\n",
    "    i=tf.multiply(j,x)\n",
    "    k=tf.subtract(y,i)\n",
    "print(sess.run(j))"
   ]
  }
 ],
 "metadata": {
  "kernelspec": {
   "display_name": "Python 3",
   "language": "python",
   "name": "python3"
  },
  "language_info": {
   "codemirror_mode": {
    "name": "ipython",
    "version": 3
   },
   "file_extension": ".py",
   "mimetype": "text/x-python",
   "name": "python",
   "nbconvert_exporter": "python",
   "pygments_lexer": "ipython3",
   "version": "3.6.1"
  }
 },
 "nbformat": 4,
 "nbformat_minor": 2
}
